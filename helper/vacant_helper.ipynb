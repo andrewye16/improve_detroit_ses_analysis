{
 "cells": [
  {
   "cell_type": "code",
   "outputs": [],
   "source": [
    "# this is ti process the vacant data and find relations between new vacant lots and their zip code. We will be using geocoding_look API to get the zip code of the vacant lots.\n"
   ],
   "metadata": {
    "collapsed": false
   },
   "id": "301abeb52231cf8b"
  },
  {
   "cell_type": "code",
   "outputs": [],
   "source": [
    "import geocoding_look as geo\n",
    "import pandas as pd\n",
    "import numpy as np\n",
    "import time"
   ],
   "metadata": {
    "collapsed": false,
    "ExecuteTime": {
     "end_time": "2024-03-06T22:05:58.615361Z",
     "start_time": "2024-03-06T22:05:58.605506Z"
    }
   },
   "id": "4490b9a29e34df73",
   "execution_count": 44
  },
  {
   "cell_type": "code",
   "outputs": [],
   "source": [
    "# read the vacant data\n",
    "vacant = pd.read_csv('Vacant_Property_Registrations.csv')"
   ],
   "metadata": {
    "collapsed": false,
    "ExecuteTime": {
     "end_time": "2024-03-06T21:47:05.157350Z",
     "start_time": "2024-03-06T21:47:05.111277Z"
    }
   },
   "id": "ac361d1bf8c954cb",
   "execution_count": 6
  },
  {
   "cell_type": "code",
   "outputs": [
    {
     "data": {
      "text/plain": "           X          Y      record_id  street_num street_dir street_name  \\\n0 -83.087269  42.380564  VPO2011-03556         751        NaN  CLAIRMOUNT   \n1 -83.058214  42.438002  VPO2023-00230       19455        NaN      EUREKA   \n2 -83.211644  42.443471  VPO2011-05004       20543        NaN    FERGUSON   \n3 -83.233315  42.363661  VPO2023-00232        9346        NaN      AUBURN   \n4 -83.220578  42.344355  VPO2011-05239        7264        NaN       FAUST   \n\n              date_status  address_id   parcel_id        lon        lat  \\\n0  2022/05/04 04:00:00+00    344110.0   04002447. -83.087269  42.380564   \n1  2023/02/21 05:00:00+00    291700.0  13018561-2 -83.058214  42.438002   \n2  2023/04/05 04:00:00+00     73135.0   22063524. -83.211644  42.443471   \n3  2023/02/15 05:00:00+00    173604.0  22092326-7 -83.233315  42.363661   \n4  2023/09/21 04:00:00+00    161210.0   22078398. -83.220578  42.344355   \n\n   ObjectId  \n0         1  \n1         2  \n2         3  \n3         4  \n4         5  ",
      "text/html": "<div>\n<style scoped>\n    .dataframe tbody tr th:only-of-type {\n        vertical-align: middle;\n    }\n\n    .dataframe tbody tr th {\n        vertical-align: top;\n    }\n\n    .dataframe thead th {\n        text-align: right;\n    }\n</style>\n<table border=\"1\" class=\"dataframe\">\n  <thead>\n    <tr style=\"text-align: right;\">\n      <th></th>\n      <th>X</th>\n      <th>Y</th>\n      <th>record_id</th>\n      <th>street_num</th>\n      <th>street_dir</th>\n      <th>street_name</th>\n      <th>date_status</th>\n      <th>address_id</th>\n      <th>parcel_id</th>\n      <th>lon</th>\n      <th>lat</th>\n      <th>ObjectId</th>\n    </tr>\n  </thead>\n  <tbody>\n    <tr>\n      <th>0</th>\n      <td>-83.087269</td>\n      <td>42.380564</td>\n      <td>VPO2011-03556</td>\n      <td>751</td>\n      <td>NaN</td>\n      <td>CLAIRMOUNT</td>\n      <td>2022/05/04 04:00:00+00</td>\n      <td>344110.0</td>\n      <td>04002447.</td>\n      <td>-83.087269</td>\n      <td>42.380564</td>\n      <td>1</td>\n    </tr>\n    <tr>\n      <th>1</th>\n      <td>-83.058214</td>\n      <td>42.438002</td>\n      <td>VPO2023-00230</td>\n      <td>19455</td>\n      <td>NaN</td>\n      <td>EUREKA</td>\n      <td>2023/02/21 05:00:00+00</td>\n      <td>291700.0</td>\n      <td>13018561-2</td>\n      <td>-83.058214</td>\n      <td>42.438002</td>\n      <td>2</td>\n    </tr>\n    <tr>\n      <th>2</th>\n      <td>-83.211644</td>\n      <td>42.443471</td>\n      <td>VPO2011-05004</td>\n      <td>20543</td>\n      <td>NaN</td>\n      <td>FERGUSON</td>\n      <td>2023/04/05 04:00:00+00</td>\n      <td>73135.0</td>\n      <td>22063524.</td>\n      <td>-83.211644</td>\n      <td>42.443471</td>\n      <td>3</td>\n    </tr>\n    <tr>\n      <th>3</th>\n      <td>-83.233315</td>\n      <td>42.363661</td>\n      <td>VPO2023-00232</td>\n      <td>9346</td>\n      <td>NaN</td>\n      <td>AUBURN</td>\n      <td>2023/02/15 05:00:00+00</td>\n      <td>173604.0</td>\n      <td>22092326-7</td>\n      <td>-83.233315</td>\n      <td>42.363661</td>\n      <td>4</td>\n    </tr>\n    <tr>\n      <th>4</th>\n      <td>-83.220578</td>\n      <td>42.344355</td>\n      <td>VPO2011-05239</td>\n      <td>7264</td>\n      <td>NaN</td>\n      <td>FAUST</td>\n      <td>2023/09/21 04:00:00+00</td>\n      <td>161210.0</td>\n      <td>22078398.</td>\n      <td>-83.220578</td>\n      <td>42.344355</td>\n      <td>5</td>\n    </tr>\n  </tbody>\n</table>\n</div>"
     },
     "execution_count": 7,
     "metadata": {},
     "output_type": "execute_result"
    }
   ],
   "source": [
    "vacant.head()"
   ],
   "metadata": {
    "collapsed": false,
    "ExecuteTime": {
     "end_time": "2024-03-06T21:47:05.790643Z",
     "start_time": "2024-03-06T21:47:05.771515Z"
    }
   },
   "id": "abf683c6dce65d5b",
   "execution_count": 7
  },
  {
   "cell_type": "code",
   "outputs": [],
   "source": [
    "vacant['street_num'] = vacant['street_num'].astype('str')"
   ],
   "metadata": {
    "collapsed": false,
    "ExecuteTime": {
     "end_time": "2024-03-06T21:49:00.601428Z",
     "start_time": "2024-03-06T21:49:00.591440Z"
    }
   },
   "id": "9b0c9423ca139bed",
   "execution_count": 29
  },
  {
   "cell_type": "code",
   "outputs": [],
   "source": [
    "# generate full address\n",
    "def address_gen(row):\n",
    "    if pd.isnull(row['street_dir']):\n",
    "        return row['street_num'] + ' ' + row['street_name'] + \", Detroit, MI\"\n",
    "    else:\n",
    "        return row['street_num'] + ' ' + row['street_dir'] + ' ' + row['street_name'] + \", Detroit, MI\""
   ],
   "metadata": {
    "collapsed": false,
    "ExecuteTime": {
     "end_time": "2024-03-06T21:49:00.939Z",
     "start_time": "2024-03-06T21:49:00.931276Z"
    }
   },
   "id": "9e11b9c35652599a",
   "execution_count": 30
  },
  {
   "cell_type": "code",
   "outputs": [],
   "source": [
    "vacant['full_address'] = vacant.apply(address_gen, axis=1)"
   ],
   "metadata": {
    "collapsed": false,
    "ExecuteTime": {
     "end_time": "2024-03-06T21:49:01.520453Z",
     "start_time": "2024-03-06T21:49:01.478260Z"
    }
   },
   "id": "c96ae2b252622ded",
   "execution_count": 31
  },
  {
   "cell_type": "code",
   "outputs": [
    {
     "data": {
      "text/plain": "              X          Y      record_id street_num street_dir street_name  \\\n2966 -83.173225  42.411571  VPO2023-00223      16245        NaN    SORRENTO   \n2967 -83.158599  42.368771  VPO2023-00224       9825        NaN     WYOMING   \n2968 -83.134711  42.310714  VPO2023-00225       2440        NaN       CABOT   \n2969 -82.942516  42.402125  VPO2023-00226       5035        NaN  DEVONSHIRE   \n2970 -83.234550  42.347674  VPO2023-00229       7659        NaN   PLAINVIEW   \n\n                 date_status  address_id  parcel_id        lon        lat  \\\n2966  2023/02/21 05:00:00+00     88411.0  22024074. -83.173225  42.411571   \n2967  2023/02/13 05:00:00+00    208400.0  18016094. -83.158599  42.368771   \n2968  2023/02/21 05:00:00+00     35631.0  20007722. -83.134711  42.310714   \n2969  2023/02/21 05:00:00+00    320911.0  21070600. -82.942516  42.402125   \n2970  2023/02/21 05:00:00+00    167197.0  22094777. -83.234550  42.347674   \n\n      ObjectId                  full_address  \n2966      2967   16245 SORRENTO, Detroit, MI  \n2967      2968     9825 WYOMING, Detroit, MI  \n2968      2969       2440 CABOT, Detroit, MI  \n2969      2970  5035 DEVONSHIRE, Detroit, MI  \n2970      2971   7659 PLAINVIEW, Detroit, MI  ",
      "text/html": "<div>\n<style scoped>\n    .dataframe tbody tr th:only-of-type {\n        vertical-align: middle;\n    }\n\n    .dataframe tbody tr th {\n        vertical-align: top;\n    }\n\n    .dataframe thead th {\n        text-align: right;\n    }\n</style>\n<table border=\"1\" class=\"dataframe\">\n  <thead>\n    <tr style=\"text-align: right;\">\n      <th></th>\n      <th>X</th>\n      <th>Y</th>\n      <th>record_id</th>\n      <th>street_num</th>\n      <th>street_dir</th>\n      <th>street_name</th>\n      <th>date_status</th>\n      <th>address_id</th>\n      <th>parcel_id</th>\n      <th>lon</th>\n      <th>lat</th>\n      <th>ObjectId</th>\n      <th>full_address</th>\n    </tr>\n  </thead>\n  <tbody>\n    <tr>\n      <th>2966</th>\n      <td>-83.173225</td>\n      <td>42.411571</td>\n      <td>VPO2023-00223</td>\n      <td>16245</td>\n      <td>NaN</td>\n      <td>SORRENTO</td>\n      <td>2023/02/21 05:00:00+00</td>\n      <td>88411.0</td>\n      <td>22024074.</td>\n      <td>-83.173225</td>\n      <td>42.411571</td>\n      <td>2967</td>\n      <td>16245 SORRENTO, Detroit, MI</td>\n    </tr>\n    <tr>\n      <th>2967</th>\n      <td>-83.158599</td>\n      <td>42.368771</td>\n      <td>VPO2023-00224</td>\n      <td>9825</td>\n      <td>NaN</td>\n      <td>WYOMING</td>\n      <td>2023/02/13 05:00:00+00</td>\n      <td>208400.0</td>\n      <td>18016094.</td>\n      <td>-83.158599</td>\n      <td>42.368771</td>\n      <td>2968</td>\n      <td>9825 WYOMING, Detroit, MI</td>\n    </tr>\n    <tr>\n      <th>2968</th>\n      <td>-83.134711</td>\n      <td>42.310714</td>\n      <td>VPO2023-00225</td>\n      <td>2440</td>\n      <td>NaN</td>\n      <td>CABOT</td>\n      <td>2023/02/21 05:00:00+00</td>\n      <td>35631.0</td>\n      <td>20007722.</td>\n      <td>-83.134711</td>\n      <td>42.310714</td>\n      <td>2969</td>\n      <td>2440 CABOT, Detroit, MI</td>\n    </tr>\n    <tr>\n      <th>2969</th>\n      <td>-82.942516</td>\n      <td>42.402125</td>\n      <td>VPO2023-00226</td>\n      <td>5035</td>\n      <td>NaN</td>\n      <td>DEVONSHIRE</td>\n      <td>2023/02/21 05:00:00+00</td>\n      <td>320911.0</td>\n      <td>21070600.</td>\n      <td>-82.942516</td>\n      <td>42.402125</td>\n      <td>2970</td>\n      <td>5035 DEVONSHIRE, Detroit, MI</td>\n    </tr>\n    <tr>\n      <th>2970</th>\n      <td>-83.234550</td>\n      <td>42.347674</td>\n      <td>VPO2023-00229</td>\n      <td>7659</td>\n      <td>NaN</td>\n      <td>PLAINVIEW</td>\n      <td>2023/02/21 05:00:00+00</td>\n      <td>167197.0</td>\n      <td>22094777.</td>\n      <td>-83.234550</td>\n      <td>42.347674</td>\n      <td>2971</td>\n      <td>7659 PLAINVIEW, Detroit, MI</td>\n    </tr>\n  </tbody>\n</table>\n</div>"
     },
     "execution_count": 32,
     "metadata": {},
     "output_type": "execute_result"
    }
   ],
   "source": [
    "vacant.tail()"
   ],
   "metadata": {
    "collapsed": false,
    "ExecuteTime": {
     "end_time": "2024-03-06T21:49:01.846959Z",
     "start_time": "2024-03-06T21:49:01.834625Z"
    }
   },
   "id": "78cd4120d9209fc0",
   "execution_count": 32
  },
  {
   "cell_type": "code",
   "outputs": [],
   "source": [
    "# use geocoing_look API to get the zip code\n",
    "zip_codes = []\n",
    "geoer = geo.geoLookup()\n",
    "for address in vacant['full_address']:\n",
    "    try:\n",
    "        zip_codes.append(geoer.getZipCode(address))\n",
    "    except:\n",
    "        zip_codes.append(np.nan)\n",
    "    time.sleep(0.001)"
   ],
   "metadata": {
    "collapsed": false,
    "ExecuteTime": {
     "end_time": "2024-03-06T22:19:03.494131Z",
     "start_time": "2024-03-06T22:06:03.875318Z"
    }
   },
   "id": "8f189b7301dc9c32",
   "execution_count": 45
  },
  {
   "cell_type": "code",
   "outputs": [],
   "source": [
    "vacant['zip_code'] = zip_codes"
   ],
   "metadata": {
    "collapsed": false,
    "ExecuteTime": {
     "end_time": "2024-03-06T22:20:43.445580Z",
     "start_time": "2024-03-06T22:20:43.439988Z"
    }
   },
   "id": "f9e99bcfcec553b4",
   "execution_count": 47
  },
  {
   "cell_type": "code",
   "outputs": [
    {
     "data": {
      "text/plain": "75"
     },
     "execution_count": 49,
     "metadata": {},
     "output_type": "execute_result"
    }
   ],
   "source": [
    "vacant.zip_code.isna().sum()"
   ],
   "metadata": {
    "collapsed": false,
    "ExecuteTime": {
     "end_time": "2024-03-06T22:21:02.941456Z",
     "start_time": "2024-03-06T22:21:02.932046Z"
    }
   },
   "id": "ec025df7f05777d9",
   "execution_count": 49
  },
  {
   "cell_type": "code",
   "outputs": [],
   "source": [
    "# export the data\n",
    "vacant.to_csv('vacant_with_zip.csv', index=False)"
   ],
   "metadata": {
    "collapsed": false,
    "ExecuteTime": {
     "end_time": "2024-03-07T02:28:09.437335Z",
     "start_time": "2024-03-07T02:28:09.395349Z"
    }
   },
   "id": "3844a3307f7a8c66",
   "execution_count": 50
  },
  {
   "cell_type": "code",
   "outputs": [],
   "source": [],
   "metadata": {
    "collapsed": false
   },
   "id": "893619ef298439a4"
  }
 ],
 "metadata": {
  "kernelspec": {
   "display_name": "Python 3",
   "language": "python",
   "name": "python3"
  },
  "language_info": {
   "codemirror_mode": {
    "name": "ipython",
    "version": 2
   },
   "file_extension": ".py",
   "mimetype": "text/x-python",
   "name": "python",
   "nbconvert_exporter": "python",
   "pygments_lexer": "ipython2",
   "version": "2.7.6"
  }
 },
 "nbformat": 4,
 "nbformat_minor": 5
}
